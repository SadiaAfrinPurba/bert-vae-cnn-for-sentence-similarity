{
  "cells": [
    {
      "cell_type": "code",
      "source": [
        "# cd /content"
      ],
      "metadata": {
        "colab": {
          "base_uri": "https://localhost:8080/"
        },
        "id": "i_Qd_EjCBJk2",
        "outputId": "31b2724c-5486-47e0-ca86-b07eb8c805e0"
      },
      "execution_count": 40,
      "outputs": [
        {
          "output_type": "stream",
          "name": "stdout",
          "text": [
            "/content\n"
          ]
        }
      ]
    },
    {
      "cell_type": "code",
      "source": [
        "# !rm -rf /content/bert-vae-cnn-for-sentence-similarity"
      ],
      "metadata": {
        "id": "N9ET5E4oBCh4"
      },
      "execution_count": 41,
      "outputs": []
    },
    {
      "cell_type": "code",
      "execution_count": 42,
      "metadata": {
        "colab": {
          "base_uri": "https://localhost:8080/"
        },
        "id": "FKhGxSh_zLvS",
        "outputId": "bde1dfdd-5ad7-4f48-d62d-da95d8c65481"
      },
      "outputs": [
        {
          "output_type": "stream",
          "name": "stdout",
          "text": [
            "Cloning into 'bert-vae-cnn-for-sentence-similarity'...\n",
            "remote: Enumerating objects: 77, done.\u001b[K\n",
            "remote: Counting objects: 100% (77/77), done.\u001b[K\n",
            "remote: Compressing objects: 100% (48/48), done.\u001b[K\n",
            "remote: Total 77 (delta 42), reused 56 (delta 25), pack-reused 0\u001b[K\n",
            "Unpacking objects: 100% (77/77), 481.23 KiB | 3.46 MiB/s, done.\n"
          ]
        }
      ],
      "source": [
        "!git clone https://github.com/SadiaAfrinPurba/bert-vae-cnn-for-sentence-similarity.git"
      ]
    },
    {
      "cell_type": "code",
      "execution_count": 43,
      "metadata": {
        "colab": {
          "base_uri": "https://localhost:8080/"
        },
        "id": "SgRMUI3HzZSj",
        "outputId": "7c95ae6b-984b-41c1-898e-9d98e1e6421b"
      },
      "outputs": [
        {
          "output_type": "stream",
          "name": "stdout",
          "text": [
            "/content/bert-vae-cnn-for-sentence-similarity\n"
          ]
        }
      ],
      "source": [
        "cd bert-vae-cnn-for-sentence-similarity/\n"
      ]
    },
    {
      "cell_type": "code",
      "execution_count": 44,
      "metadata": {
        "colab": {
          "base_uri": "https://localhost:8080/"
        },
        "id": "KiSXReZJ0HPB",
        "outputId": "9211b16e-be35-4ef0-904d-e308fc4b38f2"
      },
      "outputs": [
        {
          "output_type": "stream",
          "name": "stdout",
          "text": [
            "/content/bert-vae-cnn-for-sentence-similarity\n"
          ]
        }
      ],
      "source": [
        "!pwd"
      ]
    },
    {
      "cell_type": "code",
      "execution_count": null,
      "metadata": {
        "id": "M9vuleMo0IcI"
      },
      "outputs": [],
      "source": [
        "!pip install -r requirements.txt"
      ]
    },
    {
      "cell_type": "code",
      "source": [
        "import torch\n",
        "torch.cuda.empty_cache()\n"
      ],
      "metadata": {
        "id": "K0wuKLYKhAdJ"
      },
      "execution_count": 45,
      "outputs": []
    },
    {
      "cell_type": "code",
      "execution_count": 46,
      "metadata": {
        "colab": {
          "base_uri": "https://localhost:8080/"
        },
        "id": "ns1HOUYn0OWH",
        "outputId": "38550f11-c84a-4ffe-b3b9-9359630729d5"
      },
      "outputs": [
        {
          "output_type": "stream",
          "name": "stdout",
          "text": [
            "Some weights of the model checkpoint at bert-base-uncased were not used when initializing BertModel: ['cls.predictions.transform.LayerNorm.bias', 'cls.predictions.transform.dense.bias', 'cls.seq_relationship.bias', 'cls.seq_relationship.weight', 'cls.predictions.transform.dense.weight', 'cls.predictions.bias', 'cls.predictions.transform.LayerNorm.weight']\n",
            "- This IS expected if you are initializing BertModel from the checkpoint of a model trained on another task or with another architecture (e.g. initializing a BertForSequenceClassification model from a BertForPreTraining model).\n",
            "- This IS NOT expected if you are initializing BertModel from the checkpoint of a model that you expect to be exactly identical (initializing a BertForSequenceClassification model from a BertForSequenceClassification model).\n",
            "Epoch 1/100, Avg VAE_CNN Loss: -1456137955.69, Avg Cosine Distance: 71.52, Avg Similarity: 7.48\n",
            "Epoch 2/100, Avg VAE_CNN Loss: -1522300532.50, Avg Cosine Distance: 67.69, Avg Similarity: 11.31\n",
            "Epoch 3/100, Avg VAE_CNN Loss: -1792101765.00, Avg Cosine Distance: 66.62, Avg Similarity: 12.38\n",
            "Epoch 4/100, Avg VAE_CNN Loss: -1763035578.75, Avg Cosine Distance: 65.50, Avg Similarity: 13.50\n",
            "Epoch 5/100, Avg VAE_CNN Loss: -1791949012.25, Avg Cosine Distance: 64.87, Avg Similarity: 14.13\n",
            "Epoch 6/100, Avg VAE_CNN Loss: -1835567974.00, Avg Cosine Distance: 64.48, Avg Similarity: 14.52\n",
            "Epoch 7/100, Avg VAE_CNN Loss: -1870421589.25, Avg Cosine Distance: 64.14, Avg Similarity: 14.86\n",
            "Epoch 8/100, Avg VAE_CNN Loss: -1924424925.00, Avg Cosine Distance: 63.71, Avg Similarity: 15.29\n",
            "Epoch 9/100, Avg VAE_CNN Loss: -1968505687.75, Avg Cosine Distance: 63.34, Avg Similarity: 15.66\n",
            "Epoch 10/100, Avg VAE_CNN Loss: -1998895022.00, Avg Cosine Distance: 62.96, Avg Similarity: 16.04\n",
            "Epoch 11/100, Avg VAE_CNN Loss: -2013617402.75, Avg Cosine Distance: 62.67, Avg Similarity: 16.33\n",
            "Epoch 12/100, Avg VAE_CNN Loss: -2015729049.00, Avg Cosine Distance: 62.39, Avg Similarity: 16.61\n",
            "Epoch 13/100, Avg VAE_CNN Loss: -2029463396.50, Avg Cosine Distance: 62.21, Avg Similarity: 16.79\n",
            "Epoch 14/100, Avg VAE_CNN Loss: -2040445936.75, Avg Cosine Distance: 62.05, Avg Similarity: 16.95\n",
            "Epoch 15/100, Avg VAE_CNN Loss: -2044032519.75, Avg Cosine Distance: 61.90, Avg Similarity: 17.10\n",
            "Epoch 16/100, Avg VAE_CNN Loss: -2042710483.75, Avg Cosine Distance: 61.76, Avg Similarity: 17.24\n",
            "Epoch 17/100, Avg VAE_CNN Loss: -2045955255.00, Avg Cosine Distance: 61.63, Avg Similarity: 17.37\n",
            "Epoch 18/100, Avg VAE_CNN Loss: -2051684682.25, Avg Cosine Distance: 61.47, Avg Similarity: 17.53\n",
            "Epoch 19/100, Avg VAE_CNN Loss: -2068979863.25, Avg Cosine Distance: 61.28, Avg Similarity: 17.72\n",
            "Epoch 20/100, Avg VAE_CNN Loss: -2067025159.50, Avg Cosine Distance: 61.06, Avg Similarity: 17.94\n",
            "Epoch 21/100, Avg VAE_CNN Loss: -2084076116.75, Avg Cosine Distance: 60.86, Avg Similarity: 18.14\n",
            "Epoch 22/100, Avg VAE_CNN Loss: -2087832402.00, Avg Cosine Distance: 60.73, Avg Similarity: 18.27\n",
            "Epoch 23/100, Avg VAE_CNN Loss: -2100942792.50, Avg Cosine Distance: 60.63, Avg Similarity: 18.37\n",
            "Epoch 24/100, Avg VAE_CNN Loss: -2112037369.00, Avg Cosine Distance: 60.54, Avg Similarity: 18.46\n",
            "Epoch 25/100, Avg VAE_CNN Loss: -2130309400.25, Avg Cosine Distance: 60.51, Avg Similarity: 18.49\n",
            "Epoch 26/100, Avg VAE_CNN Loss: -2137447822.00, Avg Cosine Distance: 60.42, Avg Similarity: 18.58\n",
            "Epoch 27/100, Avg VAE_CNN Loss: -2153341567.75, Avg Cosine Distance: 60.38, Avg Similarity: 18.62\n",
            "Epoch 28/100, Avg VAE_CNN Loss: -2165483560.25, Avg Cosine Distance: 60.33, Avg Similarity: 18.67\n",
            "Epoch 29/100, Avg VAE_CNN Loss: -2177214835.75, Avg Cosine Distance: 60.29, Avg Similarity: 18.71\n",
            "Epoch 30/100, Avg VAE_CNN Loss: -2185866288.00, Avg Cosine Distance: 60.23, Avg Similarity: 18.77\n",
            "Epoch 31/100, Avg VAE_CNN Loss: -2196872635.75, Avg Cosine Distance: 60.19, Avg Similarity: 18.81\n",
            "Epoch 32/100, Avg VAE_CNN Loss: -2206187815.50, Avg Cosine Distance: 60.15, Avg Similarity: 18.85\n",
            "Epoch 33/100, Avg VAE_CNN Loss: -2211468838.25, Avg Cosine Distance: 60.12, Avg Similarity: 18.88\n",
            "Epoch 34/100, Avg VAE_CNN Loss: -2215603068.00, Avg Cosine Distance: 60.07, Avg Similarity: 18.93\n",
            "Epoch 35/100, Avg VAE_CNN Loss: -2224680558.25, Avg Cosine Distance: 60.03, Avg Similarity: 18.97\n",
            "Epoch 36/100, Avg VAE_CNN Loss: -2231337464.25, Avg Cosine Distance: 59.98, Avg Similarity: 19.02\n",
            "Epoch 37/100, Avg VAE_CNN Loss: -2247119264.50, Avg Cosine Distance: 59.95, Avg Similarity: 19.05\n",
            "Epoch 38/100, Avg VAE_CNN Loss: -2251539171.50, Avg Cosine Distance: 59.91, Avg Similarity: 19.09\n",
            "Epoch 39/100, Avg VAE_CNN Loss: -2258502620.50, Avg Cosine Distance: 59.88, Avg Similarity: 19.12\n",
            "Epoch 40/100, Avg VAE_CNN Loss: -2264143252.50, Avg Cosine Distance: 59.86, Avg Similarity: 19.14\n",
            "Epoch 41/100, Avg VAE_CNN Loss: -2271735017.25, Avg Cosine Distance: 59.80, Avg Similarity: 19.20\n",
            "Epoch 42/100, Avg VAE_CNN Loss: -2277130058.25, Avg Cosine Distance: 59.80, Avg Similarity: 19.20\n",
            "Epoch 43/100, Avg VAE_CNN Loss: -2285170047.00, Avg Cosine Distance: 59.78, Avg Similarity: 19.22\n",
            "Epoch 44/100, Avg VAE_CNN Loss: -2295148128.00, Avg Cosine Distance: 59.75, Avg Similarity: 19.25\n",
            "Epoch 45/100, Avg VAE_CNN Loss: -2301066698.25, Avg Cosine Distance: 59.71, Avg Similarity: 19.29\n",
            "Epoch 46/100, Avg VAE_CNN Loss: -2312323886.75, Avg Cosine Distance: 59.67, Avg Similarity: 19.33\n",
            "Epoch 47/100, Avg VAE_CNN Loss: -2316765553.25, Avg Cosine Distance: 59.65, Avg Similarity: 19.35\n",
            "Epoch 48/100, Avg VAE_CNN Loss: -2324751464.50, Avg Cosine Distance: 59.61, Avg Similarity: 19.39\n",
            "Epoch 49/100, Avg VAE_CNN Loss: -2333236261.00, Avg Cosine Distance: 59.49, Avg Similarity: 19.51\n",
            "Epoch 50/100, Avg VAE_CNN Loss: -2338828044.25, Avg Cosine Distance: 59.47, Avg Similarity: 19.53\n",
            "Epoch 51/100, Avg VAE_CNN Loss: -2341971405.25, Avg Cosine Distance: 59.42, Avg Similarity: 19.58\n",
            "Epoch 52/100, Avg VAE_CNN Loss: -2347690458.25, Avg Cosine Distance: 59.39, Avg Similarity: 19.61\n",
            "Epoch 53/100, Avg VAE_CNN Loss: -2348937421.75, Avg Cosine Distance: 59.38, Avg Similarity: 19.62\n",
            "Epoch 54/100, Avg VAE_CNN Loss: -2354584621.75, Avg Cosine Distance: 59.34, Avg Similarity: 19.66\n",
            "Epoch 55/100, Avg VAE_CNN Loss: -2363723515.00, Avg Cosine Distance: 59.32, Avg Similarity: 19.68\n",
            "Epoch 56/100, Avg VAE_CNN Loss: -2369424077.50, Avg Cosine Distance: 59.28, Avg Similarity: 19.72\n",
            "Epoch 57/100, Avg VAE_CNN Loss: -2373928446.25, Avg Cosine Distance: 59.27, Avg Similarity: 19.73\n",
            "Epoch 58/100, Avg VAE_CNN Loss: -2378423462.50, Avg Cosine Distance: 59.24, Avg Similarity: 19.76\n",
            "Epoch 59/100, Avg VAE_CNN Loss: -2382636928.00, Avg Cosine Distance: 59.24, Avg Similarity: 19.76\n",
            "Epoch 60/100, Avg VAE_CNN Loss: -2392706584.25, Avg Cosine Distance: 59.21, Avg Similarity: 19.79\n",
            "Epoch 61/100, Avg VAE_CNN Loss: -2399052351.00, Avg Cosine Distance: 59.15, Avg Similarity: 19.85\n",
            "Epoch 62/100, Avg VAE_CNN Loss: -2410727859.00, Avg Cosine Distance: 59.15, Avg Similarity: 19.85\n",
            "Epoch 63/100, Avg VAE_CNN Loss: -2414382206.00, Avg Cosine Distance: 59.11, Avg Similarity: 19.89\n",
            "Epoch 64/100, Avg VAE_CNN Loss: -2420923260.50, Avg Cosine Distance: 59.06, Avg Similarity: 19.94\n",
            "Epoch 65/100, Avg VAE_CNN Loss: -2433544649.25, Avg Cosine Distance: 59.04, Avg Similarity: 19.96\n",
            "Epoch 66/100, Avg VAE_CNN Loss: -2439009748.75, Avg Cosine Distance: 59.04, Avg Similarity: 19.96\n",
            "Epoch 67/100, Avg VAE_CNN Loss: -2446956288.50, Avg Cosine Distance: 59.00, Avg Similarity: 20.00\n",
            "Epoch 68/100, Avg VAE_CNN Loss: -2452340918.50, Avg Cosine Distance: 58.98, Avg Similarity: 20.02\n",
            "Epoch 69/100, Avg VAE_CNN Loss: -2460414247.50, Avg Cosine Distance: 58.97, Avg Similarity: 20.03\n",
            "Epoch 70/100, Avg VAE_CNN Loss: -2466863101.25, Avg Cosine Distance: 58.97, Avg Similarity: 20.03\n",
            "Epoch 71/100, Avg VAE_CNN Loss: -2470345791.75, Avg Cosine Distance: 58.94, Avg Similarity: 20.06\n",
            "Epoch 72/100, Avg VAE_CNN Loss: -2475022952.25, Avg Cosine Distance: 58.91, Avg Similarity: 20.09\n",
            "Epoch 73/100, Avg VAE_CNN Loss: -2483625683.00, Avg Cosine Distance: 58.91, Avg Similarity: 20.09\n",
            "Epoch 74/100, Avg VAE_CNN Loss: -2489184788.50, Avg Cosine Distance: 58.86, Avg Similarity: 20.14\n",
            "Epoch 75/100, Avg VAE_CNN Loss: -2496422162.75, Avg Cosine Distance: 58.82, Avg Similarity: 20.18\n",
            "Epoch 76/100, Avg VAE_CNN Loss: -2503779355.50, Avg Cosine Distance: 58.80, Avg Similarity: 20.20\n",
            "Epoch 77/100, Avg VAE_CNN Loss: -2509316428.00, Avg Cosine Distance: 58.80, Avg Similarity: 20.20\n",
            "Epoch 78/100, Avg VAE_CNN Loss: -2515950777.00, Avg Cosine Distance: 58.75, Avg Similarity: 20.25\n",
            "Epoch 79/100, Avg VAE_CNN Loss: -2529199999.50, Avg Cosine Distance: 58.72, Avg Similarity: 20.28\n",
            "Epoch 80/100, Avg VAE_CNN Loss: -2534506710.50, Avg Cosine Distance: 58.71, Avg Similarity: 20.29\n",
            "Epoch 81/100, Avg VAE_CNN Loss: -2537954234.50, Avg Cosine Distance: 58.68, Avg Similarity: 20.32\n",
            "Epoch 82/100, Avg VAE_CNN Loss: -2544909869.50, Avg Cosine Distance: 58.68, Avg Similarity: 20.32\n",
            "Epoch 83/100, Avg VAE_CNN Loss: -2550945561.75, Avg Cosine Distance: 58.66, Avg Similarity: 20.34\n",
            "Epoch 84/100, Avg VAE_CNN Loss: -2555043400.50, Avg Cosine Distance: 58.66, Avg Similarity: 20.34\n",
            "Epoch 85/100, Avg VAE_CNN Loss: -2559073277.50, Avg Cosine Distance: 58.64, Avg Similarity: 20.36\n",
            "Epoch 86/100, Avg VAE_CNN Loss: -2564384845.00, Avg Cosine Distance: 58.61, Avg Similarity: 20.39\n",
            "Epoch 87/100, Avg VAE_CNN Loss: -2573376994.25, Avg Cosine Distance: 58.62, Avg Similarity: 20.38\n",
            "Epoch 88/100, Avg VAE_CNN Loss: -2578445453.25, Avg Cosine Distance: 58.60, Avg Similarity: 20.40\n",
            "Epoch 89/100, Avg VAE_CNN Loss: -2581731961.75, Avg Cosine Distance: 58.59, Avg Similarity: 20.41\n",
            "Epoch 90/100, Avg VAE_CNN Loss: -2587895506.50, Avg Cosine Distance: 58.55, Avg Similarity: 20.45\n",
            "Epoch 91/100, Avg VAE_CNN Loss: -2593406635.00, Avg Cosine Distance: 58.53, Avg Similarity: 20.47\n",
            "Epoch 92/100, Avg VAE_CNN Loss: -2598910983.25, Avg Cosine Distance: 58.54, Avg Similarity: 20.46\n",
            "Epoch 93/100, Avg VAE_CNN Loss: -2606093460.25, Avg Cosine Distance: 58.53, Avg Similarity: 20.47\n",
            "Epoch 94/100, Avg VAE_CNN Loss: -2612582553.75, Avg Cosine Distance: 58.50, Avg Similarity: 20.50\n",
            "Epoch 95/100, Avg VAE_CNN Loss: -2617868933.50, Avg Cosine Distance: 58.49, Avg Similarity: 20.51\n",
            "Epoch 96/100, Avg VAE_CNN Loss: -2623224596.00, Avg Cosine Distance: 58.50, Avg Similarity: 20.50\n",
            "Epoch 97/100, Avg VAE_CNN Loss: -2626160677.00, Avg Cosine Distance: 58.47, Avg Similarity: 20.53\n",
            "Epoch 98/100, Avg VAE_CNN Loss: -2631434577.50, Avg Cosine Distance: 58.48, Avg Similarity: 20.52\n",
            "Epoch 99/100, Avg VAE_CNN Loss: -2636056287.75, Avg Cosine Distance: 58.48, Avg Similarity: 20.52\n",
            "Epoch 100/100, Avg VAE_CNN Loss: -2639401325.00, Avg Cosine Distance: 58.46, Avg Similarity: 20.54\n"
          ]
        }
      ],
      "source": [
        "!python main.py"
      ]
    },
    {
      "cell_type": "code",
      "execution_count": 47,
      "metadata": {
        "id": "WwSsH34A0YbQ",
        "colab": {
          "base_uri": "https://localhost:8080/"
        },
        "outputId": "3359074a-2a06-44b9-cce8-926d4039d927"
      },
      "outputs": [
        {
          "output_type": "execute_result",
          "data": {
            "text/plain": [
              "False"
            ]
          },
          "metadata": {},
          "execution_count": 47
        }
      ],
      "source": [
        "-2410727859 > -2052795402.75"
      ]
    },
    {
      "cell_type": "code",
      "source": [],
      "metadata": {
        "id": "qWH_pZjvDPL0"
      },
      "execution_count": null,
      "outputs": []
    }
  ],
  "metadata": {
    "colab": {
      "provenance": [],
      "machine_shape": "hm",
      "gpuType": "A100"
    },
    "kernelspec": {
      "display_name": "Python 3",
      "name": "python3"
    },
    "language_info": {
      "name": "python"
    },
    "accelerator": "GPU"
  },
  "nbformat": 4,
  "nbformat_minor": 0
}